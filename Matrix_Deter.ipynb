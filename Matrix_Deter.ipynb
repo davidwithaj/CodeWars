{
 "cells": [
  {
   "cell_type": "code",
   "execution_count": 205,
   "metadata": {},
   "outputs": [],
   "source": [
    "def determinant(n):\n",
    "    from copy import deepcopy\n",
    "    \n",
    "    if len(n) == 1:\n",
    "        return n[0][0]\n",
    "    if len(n) == 2:\n",
    "        return n[0][0]*n[1][1] - n[0][1]*n[1][0] \n",
    "    \n",
    "    else:\n",
    "        deter = 0\n",
    "        for i in range(len(n)):\n",
    "            n_minor = deepcopy(n) #creates a copy of n, use of deepcopy because python doesnt see n as list of n, sees it as list of list obj\n",
    "            del n_minor[0]\n",
    "            \n",
    "            for j in range(len(n_minor)):\n",
    "                del n_minor[j][i]\n",
    "                \n",
    "            if (i+1)%2 == 1:\n",
    "                deter += n[0][i] * determinant(n_minor)\n",
    "            else:\n",
    "                deter -= n[0][i] * determinant(n_minor)\n",
    "                \n",
    "        return deter"
   ]
  },
  {
   "cell_type": "code",
   "execution_count": 206,
   "metadata": {},
   "outputs": [
    {
     "data": {
      "text/plain": [
       "20"
      ]
     },
     "execution_count": 206,
     "metadata": {},
     "output_type": "execute_result"
    }
   ],
   "source": [
    "determinant([[3,4,3,4],[1,2,1,5],[1,2,6,1],[1,2,6,3]])"
   ]
  },
  {
   "cell_type": "code",
   "execution_count": null,
   "metadata": {},
   "outputs": [],
   "source": []
  },
  {
   "cell_type": "code",
   "execution_count": null,
   "metadata": {},
   "outputs": [],
   "source": []
  }
 ],
 "metadata": {
  "kernelspec": {
   "display_name": "Python 3",
   "language": "python",
   "name": "python3"
  },
  "language_info": {
   "codemirror_mode": {
    "name": "ipython",
    "version": 3
   },
   "file_extension": ".py",
   "mimetype": "text/x-python",
   "name": "python",
   "nbconvert_exporter": "python",
   "pygments_lexer": "ipython3",
   "version": "3.6.2"
  }
 },
 "nbformat": 4,
 "nbformat_minor": 2
}
